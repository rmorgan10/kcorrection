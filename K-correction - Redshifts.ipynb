{
 "cells": [
  {
   "cell_type": "code",
   "execution_count": 1,
   "metadata": {},
   "outputs": [],
   "source": [
    "import pandas as pd\n",
    "import numpy as np\n",
    "import pandas\n",
    "\n",
    "from scipy.interpolate import interp1d\n",
    "import matplotlib.pyplot as plt\n",
    "from scipy.integrate import quad\n",
    "\n",
    "from astropy.io import fits\n",
    "from astropy.table import Table\n",
    "\n",
    "import warnings\n",
    "warnings.filterwarnings(\"ignore\")"
   ]
  },
  {
   "cell_type": "code",
   "execution_count": 2,
   "metadata": {},
   "outputs": [],
   "source": [
    "# Spectrum of the galaxy\n",
    "data = Table.read('lrg.fits', format='fits')\n",
    "df = data.to_pandas()\n",
    "df['FREQUENCY'] = 2.99792458e18 / df['LAMBDA'].values\n",
    "\n",
    "def spectrum_data(df, z):\n",
    "    df['OBSERVED_FREQUENCY'] = df['FREQUENCY'].values/(1+z)\n",
    "    return df"
   ]
  },
  {
   "cell_type": "code",
   "execution_count": 3,
   "metadata": {},
   "outputs": [],
   "source": [
    "def read_passband(band, z):\n",
    "    \"\"\"                                                                                                                                                                                                                                                                                                                                                                        \n",
    "    Read and interpolate filter transmission curves                                                                                                                                                                                                                                                                                                                             \n",
    "\n",
    "    :param band: the single-letter band identifier                                                                                                                                                                                                                                                                                                                             \n",
    "    :return: transmisison_frequency: interpolated filter transmission as a function of frequency                                                                                                                                                                                                                                                                               \n",
    "    :return: transmisison_wavelength: interpolated filter transmission as a function of wavelength                                                                                                                                                                                                                                                                             \n",
    "    \"\"\"\n",
    "    #Target filter file associated with band                                                                                                                                                                                                                                                                                                                                   \n",
    "    filter_file = 'filters/DECam_{}.dat'.format(band)  #[x for x in self.filter_files if x.find('_' + band) != -1][0]\n",
    "\n",
    "    # Read and format filter transmission info                                                                                                                                                                                                                                                                                                                                 \n",
    "    passband = pd.read_csv(filter_file,\n",
    "                           names=['WAVELENGTH', 'TRANSMISSION'],\n",
    "                           delim_whitespace=True, comment='#')\n",
    "\n",
    "    # Add boundary terms to cover the whole range                                                                                                                                                                                                                                                                                                                              \n",
    "    passband.loc[passband.shape[0]] = (1.e-1, 0.0)\n",
    "    passband.loc[passband.shape[0]] = (4.e+4, 0.0)\n",
    "\n",
    "    # Convert to frequency using speed of light in angstroms                                                                                                                                                                                                                                                                                                                   \n",
    "    passband['FREQUENCY'] = 2.99792458e18 / passband['WAVELENGTH'].values\n",
    "    passband['OBSERVED_FREQUENCY'] = passband['FREQUENCY'].values/(1+z)\n",
    "\n",
    "    # Interpolate and return                                                                                                                                                                                                                                                                                                                                                   \n",
    "    transmission_frequency = interp1d(passband['FREQUENCY'].values, passband['TRANSMISSION'].values, fill_value=0.0)\n",
    "    transmission_frequency_obs = interp1d(passband['OBSERVED_FREQUENCY'].values, passband['TRANSMISSION'].values, fill_value=0.0)\n",
    "    \n",
    "    return transmission_frequency, transmission_frequency_obs"
   ]
  },
  {
   "cell_type": "code",
   "execution_count": 4,
   "metadata": {},
   "outputs": [],
   "source": [
    "def k_correction(z , band, df):\n",
    "    df = spectrum_data(df, z)\n",
    "\n",
    "    transmission_frequency, transmission_frequency_obs = read_passband(band, z)\n",
    "    transmission_f = transmission_frequency(df['FREQUENCY'].values)\n",
    "    transmission_f_o = transmission_frequency_obs(df['OBSERVED_FREQUENCY'].values)\n",
    "\n",
    "    first_term_integrant = (df['FLAMBDA'].values * transmission_f_o)/ df['OBSERVED_FREQUENCY'].values\n",
    "    first_term_integrant_interpolated = interp1d(df['OBSERVED_FREQUENCY'].values, first_term_integrant)\n",
    "    first_term = quad(first_term_integrant_interpolated, df['OBSERVED_FREQUENCY'].values[0], df['OBSERVED_FREQUENCY'].values[-1])[0]\n",
    "\n",
    "    fourth_term_integrant = (df['FLAMBDA'].values * transmission_f)/ df['FREQUENCY'].values\n",
    "    fourth_term_integrant_interpolated = interp1d(df['FREQUENCY'].values, fourth_term_integrant)\n",
    "    fourth_term = quad(fourth_term_integrant_interpolated, df['FREQUENCY'].values[0], df['FREQUENCY'].values[-1])[0]\n",
    "\n",
    "    k = -2.5*np.log10( (1+z) * (first_term/fourth_term) )\n",
    "    return k"
   ]
  },
  {
   "cell_type": "code",
   "execution_count": 5,
   "metadata": {},
   "outputs": [],
   "source": [
    "band = 'g'\n",
    "redshifts = np.linspace(0,2,500)\n",
    "k = []\n",
    "for z in redshifts:\n",
    "    k.append(k_correction(z, band, df))"
   ]
  },
  {
   "cell_type": "code",
   "execution_count": 6,
   "metadata": {},
   "outputs": [
    {
     "data": {
      "image/png": "[encoded data removed]",
      "text/plain": [
       "<Figure size 432x288 with 1 Axes>"
      ]
     },
     "metadata": {
      "needs_background": "light"
     },
     "output_type": "display_data"
    }
   ],
   "source": [
    "plt.figure()\n",
    "plt.title('K-Correction')\n",
    "plt.xlabel('z')\n",
    "plt.ylabel('k-corecction')\n",
    "plt.plot(redshifts, k)\n",
    "plt.show()"
   ]
  },
  {
   "cell_type": "code",
   "execution_count": 7,
   "metadata": {
    "scrolled": true
   },
   "outputs": [],
   "source": [
    "passbands = ['g', 'i', 'r', 'z']\n",
    "for b in passbands:\n",
    "    redshifts = np.linspace(0,3,500)\n",
    "    data = []\n",
    "    for z in redshifts:\n",
    "        data.append([z, k_correction(z, b, df)])\n",
    "    data = pd.DataFrame(data, columns = ['z', 'k'])\n",
    "    data.to_csv('k_values/{}_passband.csv'.format(b), sep = '\\t')"
   ]
  },
  {
   "cell_type": "code",
   "execution_count": null,
   "metadata": {},
   "outputs": [],
   "source": []
  }
 ],
 "metadata": {
  "kernelspec": {
   "display_name": "Python 3",
   "language": "python",
   "name": "python3"
  },
  "language_info": {
   "codemirror_mode": {
    "name": "ipython",
    "version": 3
   },
   "file_extension": ".py",
   "mimetype": "text/x-python",
   "name": "python",
   "nbconvert_exporter": "python",
   "pygments_lexer": "ipython3",
   "version": "3.7.3"
  }
 },
 "nbformat": 4,
 "nbformat_minor": 2
}
