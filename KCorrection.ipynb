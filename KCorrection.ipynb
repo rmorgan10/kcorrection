{
 "cells": [
  {
   "cell_type": "markdown",
   "metadata": {},
   "source": [
    "Apply K-Correction to an LRG spectrum"
   ]
  },
  {
   "cell_type": "code",
   "execution_count": 34,
   "metadata": {},
   "outputs": [],
   "source": [
    "import pandas as pd\n",
    "import numpy as np\n",
    "\n",
    "from scipy.interpolate import interp1d"
   ]
  },
  {
   "cell_type": "code",
   "execution_count": 19,
   "metadata": {},
   "outputs": [
    {
     "data": {
      "text/html": [
       "<div>\n",
       "<style scoped>\n",
       "    .dataframe tbody tr th:only-of-type {\n",
       "        vertical-align: middle;\n",
       "    }\n",
       "\n",
       "    .dataframe tbody tr th {\n",
       "        vertical-align: top;\n",
       "    }\n",
       "\n",
       "    .dataframe thead th {\n",
       "        text-align: right;\n",
       "    }\n",
       "</style>\n",
       "<table border=\"1\" class=\"dataframe\">\n",
       "  <thead>\n",
       "    <tr style=\"text-align: right;\">\n",
       "      <th></th>\n",
       "      <th>LAMBDA</th>\n",
       "      <th>FLAMBDA</th>\n",
       "    </tr>\n",
       "  </thead>\n",
       "  <tbody>\n",
       "    <tr>\n",
       "      <td>0</td>\n",
       "      <td>1000.65</td>\n",
       "      <td>0.00001</td>\n",
       "    </tr>\n",
       "    <tr>\n",
       "      <td>1</td>\n",
       "      <td>1001.51</td>\n",
       "      <td>0.00001</td>\n",
       "    </tr>\n",
       "    <tr>\n",
       "      <td>2</td>\n",
       "      <td>1002.36</td>\n",
       "      <td>0.00001</td>\n",
       "    </tr>\n",
       "    <tr>\n",
       "      <td>3</td>\n",
       "      <td>1003.23</td>\n",
       "      <td>0.00001</td>\n",
       "    </tr>\n",
       "    <tr>\n",
       "      <td>4</td>\n",
       "      <td>1004.09</td>\n",
       "      <td>0.00001</td>\n",
       "    </tr>\n",
       "  </tbody>\n",
       "</table>\n",
       "</div>"
      ],
      "text/plain": [
       "    LAMBDA  FLAMBDA\n",
       "0  1000.65  0.00001\n",
       "1  1001.51  0.00001\n",
       "2  1002.36  0.00001\n",
       "3  1003.23  0.00001\n",
       "4  1004.09  0.00001"
      ]
     },
     "execution_count": 19,
     "metadata": {},
     "output_type": "execute_result"
    }
   ],
   "source": [
    "import fitsio\n",
    "\n",
    "df = pd.DataFrame.from_records(fitsio.read('lrg.fits').byteswap().newbyteorder())\n",
    "\n",
    "df.head()"
   ]
  },
  {
   "cell_type": "code",
   "execution_count": 20,
   "metadata": {},
   "outputs": [],
   "source": [
    "import matplotlib.pyplot as plt"
   ]
  },
  {
   "cell_type": "code",
   "execution_count": 22,
   "metadata": {},
   "outputs": [
    {
     "data": {
      "image/png": "[encoded data removed]",
      "text/plain": [
       "<Figure size 432x288 with 1 Axes>"
      ]
     },
     "metadata": {
      "needs_background": "light"
     },
     "output_type": "display_data"
    }
   ],
   "source": [
    "plt.figure()\n",
    "plt.plot(df['LAMBDA'], df['FLAMBDA'])\n",
    "plt.xlabel(\"Wavelength [Angstoms]\")\n",
    "plt.ylabel(\"Flux\")\n",
    "plt.show()"
   ]
  },
  {
   "cell_type": "code",
   "execution_count": 47,
   "metadata": {},
   "outputs": [
    {
     "name": "stdout",
     "output_type": "stream",
     "text": [
      "#lambda transmission\r\n",
      "3740.0 0.0\r\n",
      "3750.0 0.0\r\n",
      "3760.0 0.0\r\n",
      "3770.0 0.0\r\n",
      "3780.0 0.0\r\n",
      "3790.0 0.0\r\n",
      "3800.0 0.0\r\n",
      "3810.0 0.000351429812025\r\n",
      "3820.0 0.000437359561568\r\n"
     ]
    }
   ],
   "source": [
    "! head filters/DECam_g.dat"
   ]
  },
  {
   "cell_type": "code",
   "execution_count": 35,
   "metadata": {},
   "outputs": [],
   "source": [
    "def read_passband(band):\n",
    "    \"\"\"                                                                                                                                                                                                                                                                                                                                                                        \n",
    "    Read and interolate filter transmission curves                                                                                                                                                                                                                                                                                                                             \n",
    "\n",
    "    :param band: the single-letter band identifier                                                                                                                                                                                                                                                                                                                             \n",
    "    :return: transmisison_frequency: interpolated filter transmission as a function of frequency                                                                                                                                                                                                                                                                               \n",
    "    :return: transmisison_wavelength: interpolated filter transmission as a function of wavelength                                                                                                                                                                                                                                                                             \n",
    "    \"\"\"\n",
    "    #Target filter file associated with band                                                                                                                                                                                                                                                                                                                                   \n",
    "    filter_file = 'filters/DECam_{}.dat'.format(band)  #[x for x in self.filter_files if x.find('_' + band) != -1][0]\n",
    "\n",
    "    # Read and format filter transmission info                                                                                                                                                                                                                                                                                                                                 \n",
    "    passband = pd.read_csv(filter_file,\n",
    "                           names=['WAVELENGTH', 'TRANSMISSION'],\n",
    "                           delim_whitespace=True, comment='#')\n",
    "\n",
    "    # Add boundary terms to cover the whole range                                                                                                                                                                                                                                                                                                                              \n",
    "    passband.loc[passband.shape[0]] = (1.e-1, 0.0)\n",
    "    passband.loc[passband.shape[0]] = (4.e+4, 0.0)\n",
    "\n",
    "    # Convert to frequency using speed of light in angstroms                                                                                                                                                                                                                                                                                                                   \n",
    "    passband['FREQUENCY'] = 2.99792458e18 / passband['WAVELENGTH'].values\n",
    "\n",
    "    # Interpolate and return                                                                                                                                                                                                                                                                                                                                                   \n",
    "    transmission_frequency = interp1d(passband['FREQUENCY'].values, passband['TRANSMISSION'].values, fill_value=0.0)\n",
    "    transmission_wavelength = interp1d(passband['WAVELENGTH'].values, passband['TRANSMISSION'].values, fill_value=0.0)\n",
    "    return transmission_frequency, transmission_wavelength\n"
   ]
  },
  {
   "cell_type": "code",
   "execution_count": 44,
   "metadata": {},
   "outputs": [],
   "source": [
    "g_transmission_frequency, g_transmission_wavelength = read_passband('g')\n",
    "r_transmission_frequency, r_transmission_wavelength = read_passband('r')"
   ]
  },
  {
   "cell_type": "code",
   "execution_count": 45,
   "metadata": {},
   "outputs": [],
   "source": [
    "g_transmission = g_transmission_wavelength(df['LAMBDA'].values)\n",
    "r_transmission = r_transmission_wavelength(df['LAMBDA'].values)"
   ]
  },
  {
   "cell_type": "code",
   "execution_count": 41,
   "metadata": {},
   "outputs": [
    {
     "data": {
      "image/png": "[encoded data removed]",
      "text/plain": [
       "<Figure size 432x288 with 1 Axes>"
      ]
     },
     "metadata": {
      "needs_background": "light"
     },
     "output_type": "display_data"
    }
   ],
   "source": [
    "plt.figure()\n",
    "plt.plot(df['LAMBDA'], df['FLAMBDA'])\n",
    "\n",
    "plt.xlabel(\"Wavelength [Angstoms]\")\n",
    "plt.ylabel(\"Flux\")\n",
    "plt.show()"
   ]
  },
  {
   "cell_type": "code",
   "execution_count": 46,
   "metadata": {},
   "outputs": [
    {
     "data": {
      "image/png": "[encoded data removed]",
      "text/plain": [
       "<Figure size 432x288 with 1 Axes>"
      ]
     },
     "metadata": {
      "needs_background": "light"
     },
     "output_type": "display_data"
    }
   ],
   "source": [
    "\n",
    "plt.figure()\n",
    "plt.plot(df['LAMBDA'].values, g_transmission)\n",
    "plt.plot(df['LAMBDA'].values, r_transmission)\n",
    "\n",
    "plt.xlabel(\"Wavelength [Angstoms]\")\n",
    "plt.ylabel(\"Flux\")\n",
    "plt.show()"
   ]
  },
  {
   "cell_type": "code",
   "execution_count": 48,
   "metadata": {},
   "outputs": [],
   "source": [
    "from scipy.integrate import quad"
   ]
  },
  {
   "cell_type": "code",
   "execution_count": 49,
   "metadata": {},
   "outputs": [],
   "source": [
    "g_band_integrand = df['FLAMBDA'].values * g_transmission"
   ]
  },
  {
   "cell_type": "code",
   "execution_count": 50,
   "metadata": {},
   "outputs": [],
   "source": [
    "g_band_integrand_interpolated = interp1d(df['LAMBDA'].values, g_band_integrand)"
   ]
  },
  {
   "cell_type": "code",
   "execution_count": 51,
   "metadata": {},
   "outputs": [
    {
     "name": "stderr",
     "output_type": "stream",
     "text": [
      "/Users/rmorgan/anaconda3/lib/python3.7/site-packages/scipy/integrate/quadpack.py:385: IntegrationWarning: The maximum number of subdivisions (50) has been achieved.\n",
      "  If increasing the limit yields no improvement it is advised to analyze \n",
      "  the integrand in order to determine the difficulties.  If the position of a \n",
      "  local difficulty can be determined (singularity, discontinuity) one will \n",
      "  probably gain from splitting up the interval and calling the integrator \n",
      "  on the subranges.  Perhaps a special-purpose integrator should be used.\n",
      "  warnings.warn(msg, IntegrationWarning)\n"
     ]
    }
   ],
   "source": [
    "result = quad(g_band_integrand_interpolated, df['LAMBDA'].values[0], df['LAMBDA'].values[-1])"
   ]
  },
  {
   "cell_type": "code",
   "execution_count": 53,
   "metadata": {},
   "outputs": [
    {
     "name": "stdout",
     "output_type": "stream",
     "text": [
      "0.09921667219176956\n"
     ]
    }
   ],
   "source": [
    "print(result[0])"
   ]
  },
  {
   "cell_type": "code",
   "execution_count": null,
   "metadata": {},
   "outputs": [],
   "source": []
  }
 ],
 "metadata": {
  "kernelspec": {
   "display_name": "Python 3",
   "language": "python",
   "name": "python3"
  },
  "language_info": {
   "codemirror_mode": {
    "name": "ipython",
    "version": 3
   },
   "file_extension": ".py",
   "mimetype": "text/x-python",
   "name": "python",
   "nbconvert_exporter": "python",
   "pygments_lexer": "ipython3",
   "version": "3.7.1"
  }
 },
 "nbformat": 4,
 "nbformat_minor": 2
}
